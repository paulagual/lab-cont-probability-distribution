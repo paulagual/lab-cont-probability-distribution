{
 "cells": [
  {
   "cell_type": "markdown",
   "metadata": {},
   "source": [
    "# Before your start:\n",
    "- Read the README.md file\n",
    "- Comment as much as you can and use the resources (README.md file)\n",
    "- Happy learning!"
   ]
  },
  {
   "cell_type": "code",
   "execution_count": 1,
   "metadata": {
    "ExecuteTime": {
     "end_time": "2019-08-05T07:06:49.475565Z",
     "start_time": "2019-08-05T07:06:48.569463Z"
    }
   },
   "outputs": [],
   "source": [
    "from scipy import stats\n",
    "import pandas as pd\n",
    "import numpy as np\n",
    "import matplotlib.pyplot as plt\n",
    "import math"
   ]
  },
  {
   "cell_type": "markdown",
   "metadata": {},
   "source": [
    "# Challenge 1 - Generate and Plot Normal Distributions"
   ]
  },
  {
   "cell_type": "markdown",
   "metadata": {},
   "source": [
    "#### Step 1: Generate samples and test normal distribution\n",
    "\n",
    "Use mean = 50, standard_deviation = 5 and sample_size=[10, 50, 500, 5000] to generate 4 random samples that are normally distributed. Test your normal distributions with [`scipy.stats.normaltest`](https://docs.scipy.org/doc/scipy/reference/generated/scipy.stats.normaltest.html).\n",
    "\n",
    "\n",
    "*Hint: Read the documentation for `scipy.stats.normaltest`. The function does not simply return Yes or No for whether your data is normal distribution. It returns the likelihood.*"
   ]
  },
  {
   "cell_type": "code",
   "execution_count": 2,
   "metadata": {
    "ExecuteTime": {
     "end_time": "2019-08-05T07:06:49.493337Z",
     "start_time": "2019-08-05T07:06:49.477983Z"
    }
   },
   "outputs": [
    {
     "name": "stderr",
     "output_type": "stream",
     "text": [
      "/usr/local/lib/python3.7/site-packages/scipy/stats/stats.py:1450: UserWarning: kurtosistest only valid for n>=20 ... continuing anyway, n=10\n",
      "  \"anyway, n=%i\" % int(n))\n"
     ]
    },
    {
     "data": {
      "text/plain": [
       "[NormaltestResult(statistic=1.7534718566752119, pvalue=0.41613900481823296),\n",
       " NormaltestResult(statistic=2.175901631312408, pvalue=0.3369061696770253),\n",
       " NormaltestResult(statistic=0.9491668636458563, pvalue=0.6221441679543934),\n",
       " NormaltestResult(statistic=4.295951143211782, pvalue=0.11672021046522525)]"
      ]
     },
     "execution_count": 2,
     "metadata": {},
     "output_type": "execute_result"
    }
   ],
   "source": [
    "# Variables\n",
    "mu = 50;\n",
    "sigma = 5;\n",
    "sample_size = [10, 50, 500, 5000]\n",
    "\n",
    "# Distributions & Tests\n",
    "dists = [np.random.normal(mu, sigma, size) for size in sample_size]\n",
    "tests = [stats.normaltest(dist) for dist in dists]\n",
    "\n",
    "# Show tests\n",
    "tests"
   ]
  },
  {
   "cell_type": "markdown",
   "metadata": {},
   "source": [
    "#### Interpret the normaltest results and make your observations."
   ]
  },
  {
   "cell_type": "markdown",
   "metadata": {},
   "source": [
    "`Comments:`\n",
    "If p < alpha (if nothing is said 95% --> alpha 0.05) we can reject the distribution is normal.\n",
    "\n",
    "In the 4 cases WE CANNOT REJECT the distributions are normal."
   ]
  },
  {
   "cell_type": "markdown",
   "metadata": {},
   "source": [
    "#### Step 2: Plot normal distributions\n",
    "\n",
    "Use matplotlib subplots to plot a histogram of each sample. \n",
    "\n",
    "*Hints:*\n",
    "- Use subplots to compare your figures side by side.\n",
    "\n",
    "- Your output should look like below:\n",
    "\n",
    "![normal distributions with different sample sizes](images/ch-1.png)"
   ]
  },
  {
   "cell_type": "code",
   "execution_count": 3,
   "metadata": {
    "ExecuteTime": {
     "end_time": "2019-08-05T07:06:49.497805Z",
     "start_time": "2019-08-05T07:06:49.495453Z"
    }
   },
   "outputs": [
    {
     "data": {
      "image/png": "[encoded data removed]",
      "text/plain": [
       "<Figure size 1008x288 with 4 Axes>"
      ]
     },
     "metadata": {
      "needs_background": "light"
     },
     "output_type": "display_data"
    }
   ],
   "source": [
    "# Create figure and axes\n",
    "fig, ax = plt.subplots(1, 4,figsize=(14,4))\n",
    "plt.subplots_adjust(left=0.2, bottom=None, right=None, top=None, wspace=0.3, hspace=None)\n",
    "\n",
    "# Variables\n",
    "bins=10\n",
    "\n",
    "# Plot each histogram\n",
    "for i in range(len(dists)):\n",
    "    ax[i].hist(dists[i], bins=bins)  \n",
    "    ax[i].set_title(f\"n = {sample_size[i]}\", fontsize=20, fontweight=300,ha='center')\n",
    "\n",
    "plt.show()\n",
    "\n"
   ]
  },
  {
   "cell_type": "markdown",
   "metadata": {},
   "source": [
    "`Comments:`\n",
    "**The bigger is the sample size, the more the histogram follows the shape of a Normal distribution. **"
   ]
  },
  {
   "cell_type": "markdown",
   "metadata": {},
   "source": [
    "# Challenge 2 - Plot Probability Mass Function (PMF)"
   ]
  },
  {
   "cell_type": "markdown",
   "metadata": {},
   "source": [
    "#### Background knowledge\n",
    "\n",
    "[PMF](https://en.wikipedia.org/wiki/Probability_mass_function) shows the probability distribution of a **discrete random variable**. A [discrete random variable](https://en.wikipedia.org/wiki/Random_variable#Discrete_random_variable) has random numeric values that are not continuous. For example, the number of people in a household can only be integers but not floats. Therefore the number of people in a household is a discrete variable.\n",
    "\n",
    "#### Question: We assume that the probability of clicking an Ad in a Youtube video is 0.15. We have a sample of 5 people who watched the video and we want to plot the PMF for a binomial distribution.\n",
    "\n",
    "*Hint: use binom from `scipy.stats.binom`. Your output should look like below:*\n",
    "\n",
    "![binom 10](images/ch-2.png)"
   ]
  },
  {
   "cell_type": "code",
   "execution_count": 4,
   "metadata": {
    "ExecuteTime": {
     "end_time": "2019-08-05T07:06:49.502188Z",
     "start_time": "2019-08-05T07:06:49.500078Z"
    }
   },
   "outputs": [
    {
     "data": {
      "image/png": "[encoded data removed]",
      "text/plain": [
       "<Figure size 432x288 with 1 Axes>"
      ]
     },
     "metadata": {
      "needs_background": "light"
     },
     "output_type": "display_data"
    }
   ],
   "source": [
    "# Variables \n",
    "p = 0.15\n",
    "n = 5\n",
    "\n",
    "# Binomial distribution\n",
    "x = np.arange(stats.binom.ppf(0.01, n, p),stats.binom.ppf(0.99, n, p))\n",
    "\n",
    "# Plot line + bullet point -> Discrete Distribution Representation\n",
    "\n",
    "fig, ax = plt.subplots(1, 1)\n",
    "ax.plot(x, stats.binom.pmf(x, n, p), 'bo', ms=8, label='binom pmf')\n",
    "ax.vlines(x, 0, stats.binom.pmf(x, n, p), colors='b', lw=5, alpha=0.5)\n",
    "ax.set_title(\"PMF n = 5\", fontsize=20, fontweight=300,ha='center')\n",
    "plt.show()"
   ]
  },
  {
   "cell_type": "markdown",
   "metadata": {},
   "source": [
    "#### Explain what you observe from the plot above."
   ]
  },
  {
   "cell_type": "markdown",
   "metadata": {},
   "source": [
    "`Comments:`\n",
    "\n"
   ]
  },
  {
   "cell_type": "markdown",
   "metadata": {},
   "source": [
    "#### Now plot PMF with 50, 500, and 5000 visitors."
   ]
  },
  {
   "cell_type": "code",
   "execution_count": 5,
   "metadata": {
    "ExecuteTime": {
     "end_time": "2019-08-05T07:06:49.648115Z",
     "start_time": "2019-08-05T07:06:49.645556Z"
    }
   },
   "outputs": [
    {
     "data": {
      "image/png": "[encoded data removed]",
      "text/plain": [
       "<Figure size 1008x432 with 3 Axes>"
      ]
     },
     "metadata": {
      "needs_background": "light"
     },
     "output_type": "display_data"
    }
   ],
   "source": [
    "# Create figure and axes\n",
    "\n",
    "fig, ax = plt.subplots(1, 3 ,figsize=(14,6))\n",
    "\n",
    "# Variables\n",
    "\n",
    "p = 0.15\n",
    "ns = [50,500,5000]\n",
    "\n",
    "xs = [np.arange(stats.binom.ppf(0.01, n, p),stats.binom.ppf(0.99, n, p)) for n in ns]\n",
    "\n",
    "\n",
    "# Plot each PMF\n",
    "# For visualization reasons, the next discrete distributions are represented using continuous lines\n",
    "\n",
    "for i in range(len(xs)):\n",
    "    ax[i].plot(xs[i], stats.binom.pmf(xs[i], ns[i], p), ms=2, label='binom pmf')\n",
    "    ax[i].set_title(f\"PMF n = {ns[i]}\", fontsize=20, fontweight=300,ha='center')\n",
    "plt.show()\n"
   ]
  },
  {
   "cell_type": "markdown",
   "metadata": {},
   "source": [
    "#### What did you notice from the distribution plots? Comment your findings."
   ]
  },
  {
   "cell_type": "markdown",
   "metadata": {},
   "source": [
    "`Comments:`\n",
    "Again, the more the higher is the sample, the more similar shape of the results to a normal distribution"
   ]
  },
  {
   "cell_type": "markdown",
   "metadata": {},
   "source": [
    "# Challenge 3"
   ]
  },
  {
   "cell_type": "markdown",
   "metadata": {},
   "source": [
    "#### Reaserch the Poisson distribution. Write about your own understanding of the Poisson distribution."
   ]
  },
  {
   "cell_type": "markdown",
   "metadata": {},
   "source": [
    "`Comments:`<br/> La distribución de **Poisson es una distribución de probabilidad discreta** que expresa, a partir de una frecuencia de ocurrencia media, **la probabilidad de que ocurra un determinado número de eventos durante cierto período de tiempo**. Concretamente, se especializa en la probabilidad de ocurrencia de sucesos con probabilidades muy pequeñas, o sucesos \"raros\". <br/> Source: Wikipedia\n"
   ]
  },
  {
   "cell_type": "markdown",
   "metadata": {},
   "source": [
    "#### A website has an average of 300 visits per day. What is the probability of getting 320 visitors in a day?\n",
    "\n",
    "*Hint: use `scipy.stats.poisson`*"
   ]
  },
  {
   "cell_type": "code",
   "execution_count": 6,
   "metadata": {
    "ExecuteTime": {
     "end_time": "2019-08-05T07:06:50.158426Z",
     "start_time": "2019-08-05T07:06:50.155903Z"
    }
   },
   "outputs": [
    {
     "name": "stdout",
     "output_type": "stream",
     "text": [
      "The probability that the number of visits ir 320 in a day: 0.0116\n"
     ]
    }
   ],
   "source": [
    "# Variables\n",
    "mu = 300\n",
    "visits = 320\n",
    "\n",
    "# Probability\n",
    "p  = math.exp(-mu)*((mu**visits)/math.factorial(visits))\n",
    "print(f'The probability that the number of visits ir {visits} in a day:', round(p,4))"
   ]
  },
  {
   "cell_type": "code",
   "execution_count": 7,
   "metadata": {},
   "outputs": [
    {
     "name": "stdout",
     "output_type": "stream",
     "text": [
      "The probability that the number of visits ir 320 in a day: 0.0116\n"
     ]
    }
   ],
   "source": [
    "p2 = stats.distributions.poisson.pmf(visits, mu)\n",
    "print(f'The probability that the number of visits ir {visits} in a day:', round(p2,4))"
   ]
  },
  {
   "cell_type": "markdown",
   "metadata": {},
   "source": [
    "#### What is the probability of getting 60 visits?"
   ]
  },
  {
   "cell_type": "code",
   "execution_count": 8,
   "metadata": {
    "ExecuteTime": {
     "end_time": "2019-08-05T07:06:50.245763Z",
     "start_time": "2019-08-05T07:06:50.242293Z"
    }
   },
   "outputs": [
    {
     "name": "stdout",
     "output_type": "stream",
     "text": [
      "The probability that the number of visits ir 60 in a day: 0.0\n"
     ]
    }
   ],
   "source": [
    "# Variables\n",
    "visits = 60\n",
    "\n",
    "# Probability\n",
    "p3 = stats.distributions.poisson.pmf(visits, mu)\n",
    "print(f'The probability that the number of visits ir {visits} in a day:', round(p3,4))"
   ]
  },
  {
   "cell_type": "markdown",
   "metadata": {},
   "source": [
    "#### Plot the distribution of the probability for getting 0-1000 visits.\n",
    "\n",
    "*Hints:* \n",
    "\n",
    "- Create a list to store the Poisson distribution probabilities for n=0 to 1000. Then plot the probabilities.\n",
    "\n",
    "- Your plot should look like below:\n",
    "\n",
    "![poisson distribution](images/ch-3.png)"
   ]
  },
  {
   "cell_type": "code",
   "execution_count": 9,
   "metadata": {
    "ExecuteTime": {
     "end_time": "2019-08-05T07:06:50.331011Z",
     "start_time": "2019-08-05T07:06:50.328383Z"
    }
   },
   "outputs": [
    {
     "data": {
      "image/png": "[encoded data removed]",
      "text/plain": [
       "<Figure size 864x432 with 1 Axes>"
      ]
     },
     "metadata": {
      "needs_background": "light"
     },
     "output_type": "display_data"
    }
   ],
   "source": [
    "# Variables\n",
    "visits = range(1000)\n",
    "\n",
    "x_is = []\n",
    "y_is = []\n",
    "ticks = []\n",
    "\n",
    "for i in range(1000):\n",
    "    x_is.append(i)\n",
    "    y_is.append(stats.distributions.poisson.pmf(i, mu))\n",
    "\n",
    "    \n",
    "# Plot of the distribution\n",
    "fig, ax = plt.subplots(1, 1, figsize=(12,6))\n",
    "plt.sca(ax)\n",
    "plt.ylim(0,0.025)\n",
    "plt.plot(x_is, y_is, alpha=0.5, color='darkblue', label='poisson distribution')\n",
    "plt.title('Poisson distribution for visits in a day between 0 and 1000', fontsize=16)\n",
    "plt.xlabel('Visits', fontsize=14)\n",
    "plt.ylabel('Probability', fontsize=14)\n",
    "ax.legend(loc='upper left', frameon=False)\n",
    "plt.show()\n"
   ]
  },
  {
   "cell_type": "markdown",
   "metadata": {},
   "source": [
    "# Challenge 4 - Central Limit Theorem\n",
    "#### Example of application\n",
    "\n",
    "A delivery company needs 35 minutes to deliver a package, with a standard deviation of 8 minutes. Suppose that in one day, they deliver 200 packages.\n",
    "\n",
    "#### a. What is the probability that the mean delivery time today is between 30 and 35 minutes?"
   ]
  },
  {
   "cell_type": "code",
   "execution_count": 10,
   "metadata": {
    "ExecuteTime": {
     "end_time": "2019-08-05T07:06:50.418811Z",
     "start_time": "2019-08-05T07:06:50.416549Z"
    }
   },
   "outputs": [
    {
     "name": "stdout",
     "output_type": "stream",
     "text": [
      "The probability between 30 and 35 minutes: 0.234\n"
     ]
    }
   ],
   "source": [
    "# Variables\n",
    "mean = 35\n",
    "deviation = 8\n",
    "\n",
    "\n",
    "# Probability\n",
    "cdf35 = stats.norm.cdf(35, mean, deviation)\n",
    "cdf30 = stats.norm.cdf(30, mean, deviation)\n",
    "p30_35 = cdf35 - cdf30\n",
    "print(f'The probability between 30 and 35 minutes:', round(p30_35,4))"
   ]
  },
  {
   "cell_type": "markdown",
   "metadata": {},
   "source": [
    "#### b. What is the probability that in total, it takes more than 115 hours to deliver all 200 packages?"
   ]
  },
  {
   "cell_type": "code",
   "execution_count": 11,
   "metadata": {
    "ExecuteTime": {
     "end_time": "2019-08-05T07:06:50.517605Z",
     "start_time": "2019-08-05T07:06:50.515513Z"
    }
   },
   "outputs": [
    {
     "name": "stdout",
     "output_type": "stream",
     "text": [
      "The probability it takes more than 115 hours is: 0.8116\n"
     ]
    }
   ],
   "source": [
    "# Variables\n",
    "\n",
    "n = 200\n",
    "target = 115*60\n",
    "\n",
    "# Probability\n",
    "cdf6900 = stats.norm.cdf(target, mean * n , deviation*(n**0.5))\n",
    "print(f'The probability it takes more than 115 hours is:', round(1-cdf6900,4))"
   ]
  },
  {
   "cell_type": "markdown",
   "metadata": {},
   "source": [
    "# Challenge 5 - Normal Variables \n",
    "\n",
    "The value (in thousands) of the monthly sales of a publishing company follows a normal distribution with a mean equal to 200 and a standard deviation equal to 40. \n",
    "\n",
    "<div align=\"center\">$X → N(200,40)$</div>\n",
    "\n",
    "#### 1. Find the probability that the monthly sales are more than 300. "
   ]
  },
  {
   "cell_type": "code",
   "execution_count": 12,
   "metadata": {
    "ExecuteTime": {
     "end_time": "2019-08-05T07:06:50.609172Z",
     "start_time": "2019-08-05T07:06:50.606690Z"
    }
   },
   "outputs": [
    {
     "name": "stdout",
     "output_type": "stream",
     "text": [
      "The probability the sales are more than 300 is: 0.0062\n"
     ]
    }
   ],
   "source": [
    "# Variables\n",
    "mu = 200\n",
    "sigma = 40\n",
    "target = 300\n",
    "\n",
    "# Probability\n",
    "cdf300 = stats.norm.cdf(target, mu , sigma)\n",
    "print(f'The probability the sales are more than 300 is:', round(1-cdf300,4))"
   ]
  },
  {
   "cell_type": "markdown",
   "metadata": {},
   "source": [
    "#### 2. Find the probability that the monthly sales fall between 160 and 240."
   ]
  },
  {
   "cell_type": "code",
   "execution_count": 13,
   "metadata": {
    "ExecuteTime": {
     "end_time": "2019-08-05T07:06:50.699269Z",
     "start_time": "2019-08-05T07:06:50.696850Z"
    }
   },
   "outputs": [
    {
     "name": "stdout",
     "output_type": "stream",
     "text": [
      "The probability the sales are between 160 and 240 is: 0.6827\n"
     ]
    }
   ],
   "source": [
    "# Probability\n",
    "cdf160 = stats.norm.cdf(160, mu , sigma)\n",
    "cdf240 = stats.norm.cdf(240, mu , sigma)\n",
    "p160_240 = cdf240 - cdf160\n",
    "\n",
    "print(f'The probability the sales are between 160 and 240 is:', round(p160_240,4))"
   ]
  },
  {
   "cell_type": "markdown",
   "metadata": {},
   "source": [
    "#### 3. Find the probability that the monthly sales do not exceed 150."
   ]
  },
  {
   "cell_type": "code",
   "execution_count": 14,
   "metadata": {
    "ExecuteTime": {
     "end_time": "2019-08-05T07:06:50.790830Z",
     "start_time": "2019-08-05T07:06:50.788448Z"
    }
   },
   "outputs": [
    {
     "name": "stdout",
     "output_type": "stream",
     "text": [
      "The probability the sales not exceed 150 is: 0.1056\n"
     ]
    }
   ],
   "source": [
    "# Probability\n",
    "cdf150 = stats.norm.cdf(150, mu , sigma)\n",
    "\n",
    "print(f'The probability the sales not exceed 150 is:', round(cdf150,4))"
   ]
  },
  {
   "cell_type": "markdown",
   "metadata": {},
   "source": [
    "#### 4. Find the probability that the monthly sales exceed 3000. "
   ]
  },
  {
   "cell_type": "code",
   "execution_count": 15,
   "metadata": {
    "ExecuteTime": {
     "end_time": "2019-08-05T07:06:50.888712Z",
     "start_time": "2019-08-05T07:06:50.886459Z"
    }
   },
   "outputs": [
    {
     "name": "stdout",
     "output_type": "stream",
     "text": [
      "The probability the sales exceed 3000 is: 0.0\n"
     ]
    }
   ],
   "source": [
    "# Probability\n",
    "cdf3000 = stats.norm.cdf(3000, mu , sigma)\n",
    "\n",
    "print(f'The probability the sales exceed 3000 is:', round(1-cdf3000,4))"
   ]
  },
  {
   "cell_type": "markdown",
   "metadata": {},
   "source": [
    "# Challenge 6 - Poisson distribution\n",
    "The mean number of violent robberies per month that are registered in a particular barrio is 4. Find the following probabilities.\n",
    "#### 1.The probability that in a particular month there is no violent robbery."
   ]
  },
  {
   "cell_type": "code",
   "execution_count": 16,
   "metadata": {
    "ExecuteTime": {
     "end_time": "2019-08-05T07:06:50.988581Z",
     "start_time": "2019-08-05T07:06:50.985153Z"
    }
   },
   "outputs": [
    {
     "name": "stdout",
     "output_type": "stream",
     "text": [
      "The probability there is no robbery is: 0.0183\n"
     ]
    }
   ],
   "source": [
    "# Variables\n",
    "mu = 4\n",
    "\n",
    "# Probability\n",
    "p0 = stats.poisson.cdf(0, mu)\n",
    "print(f'The probability there is no robbery is:', round(p0,4))"
   ]
  },
  {
   "cell_type": "markdown",
   "metadata": {},
   "source": [
    "#### 2. The probability that there are at least 1 in a given month. "
   ]
  },
  {
   "cell_type": "code",
   "execution_count": 17,
   "metadata": {
    "ExecuteTime": {
     "end_time": "2019-08-05T07:06:51.082118Z",
     "start_time": "2019-08-05T07:06:51.079802Z"
    }
   },
   "outputs": [
    {
     "name": "stdout",
     "output_type": "stream",
     "text": [
      "The probability there is at least 1 robbery is: 0.9817\n"
     ]
    }
   ],
   "source": [
    "# Probability\n",
    "print(f'The probability there is at least 1 robbery is:', round(1-p0,4))"
   ]
  },
  {
   "cell_type": "markdown",
   "metadata": {},
   "source": [
    "#### 3. The probability that there are between 2 and 6 (inclusive) in a given month."
   ]
  },
  {
   "cell_type": "code",
   "execution_count": 18,
   "metadata": {
    "ExecuteTime": {
     "end_time": "2019-08-05T07:06:51.173350Z",
     "start_time": "2019-08-05T07:06:51.170809Z"
    }
   },
   "outputs": [
    {
     "name": "stdout",
     "output_type": "stream",
     "text": [
      "The probability between 2 nd 6 robberies is: 0.6512\n"
     ]
    }
   ],
   "source": [
    "# Probability\n",
    "p2 = stats.poisson.cdf(2, mu)\n",
    "p6 = stats.poisson.cdf(6, mu)\n",
    "p2_6 = p6-p2\n",
    "print(f'The probability between 2 nd 6 robberies is:', round(p2_6,4))"
   ]
  },
  {
   "cell_type": "markdown",
   "metadata": {},
   "source": [
    "#### 4. The probability that there more than two in 15 days.  "
   ]
  },
  {
   "cell_type": "code",
   "execution_count": 19,
   "metadata": {
    "ExecuteTime": {
     "end_time": "2019-08-05T07:06:51.266542Z",
     "start_time": "2019-08-05T07:06:51.264134Z"
    }
   },
   "outputs": [
    {
     "name": "stdout",
     "output_type": "stream",
     "text": [
      "The probability more than 2 in 15 days is: 0.3233\n"
     ]
    }
   ],
   "source": [
    "# Probability\n",
    "mu15 = mu/2\n",
    "p2 = stats.poisson.cdf(2, mu15)\n",
    "print(f'The probability more than 2 in 15 days is:', round(1-p2,4))"
   ]
  }
 ],
 "metadata": {
  "anaconda-cloud": {},
  "kernelspec": {
   "display_name": "Python 3",
   "language": "python",
   "name": "python3"
  },
  "language_info": {
   "codemirror_mode": {
    "name": "ipython",
    "version": 3
   },
   "file_extension": ".py",
   "mimetype": "text/x-python",
   "name": "python",
   "nbconvert_exporter": "python",
   "pygments_lexer": "ipython3",
   "version": "3.7.3"
  },
  "toc": {
   "base_numbering": 1,
   "nav_menu": {},
   "number_sections": true,
   "sideBar": true,
   "skip_h1_title": false,
   "title_cell": "Table of Contents",
   "title_sidebar": "Contents",
   "toc_cell": false,
   "toc_position": {},
   "toc_section_display": true,
   "toc_window_display": false
  },
  "varInspector": {
   "cols": {
    "lenName": 16,
    "lenType": 16,
    "lenVar": 40
   },
   "kernels_config": {
    "python": {
     "delete_cmd_postfix": "",
     "delete_cmd_prefix": "del ",
     "library": "var_list.py",
     "varRefreshCmd": "print(var_dic_list())"
    },
    "r": {
     "delete_cmd_postfix": ") ",
     "delete_cmd_prefix": "rm(",
     "library": "var_list.r",
     "varRefreshCmd": "cat(var_dic_list()) "
    }
   },
   "types_to_exclude": [
    "module",
    "function",
    "builtin_function_or_method",
    "instance",
    "_Feature"
   ],
   "window_display": false
  }
 },
 "nbformat": 4,
 "nbformat_minor": 1
}
